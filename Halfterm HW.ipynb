{
 "cells": [
  {
   "cell_type": "markdown",
   "metadata": {},
   "source": [
    "#1.\n",
    "print(\"this is john's first program\")\n"
   ]
  },
  {
   "cell_type": "code",
   "execution_count": null,
   "metadata": {},
   "outputs": [],
   "source": [
    "#2b.\n",
    "name = input (\"whats your name?\")\n",
    "school = input (\"Where do you go to school?\")\n",
    "friend = input (\"what is your friends name?\")\n",
    "print (name + school + friend)\n"
   ]
  },
  {
   "cell_type": "code",
   "execution_count": null,
   "metadata": {},
   "outputs": [],
   "source": [
    "#3a.\n",
    "town = input (\"what is your town\")\n",
    "print (\"i love visiting\" , town)\n"
   ]
  },
  {
   "cell_type": "code",
   "execution_count": null,
   "metadata": {},
   "outputs": [],
   "source": [
    "#3b.\n",
    "first_name = input (\"what is your first name?\")\n",
    "sur_name = input (\"what is your surname?\")\n",
    "print (\"hello\" , first_name + sur_name)\n"
   ]
  },
  {
   "cell_type": "code",
   "execution_count": 4,
   "metadata": {},
   "outputs": [
    {
     "name": "stdout",
     "output_type": "stream",
     "text": [
      "aadil\n",
      "aadil\n",
      "aadil\n",
      "aadil\n"
     ]
    }
   ],
   "source": [
    "#3c.\n",
    "for i in range (0,4):\n",
    "    print (\"aadil\")\n"
   ]
  },
  {
   "cell_type": "code",
   "execution_count": 1,
   "metadata": {},
   "outputs": [
    {
     "name": "stdout",
     "output_type": "stream",
     "text": [
      "Please Enter the Radius of a Cylinder: 69\n",
      "Please Enter the Height of a Cylinder: 69\n",
      "1031518.2599999999\n"
     ]
    }
   ],
   "source": [
    "#5b.\n",
    "PI = 3.14\n",
    "radius = float(input('Please Enter the Radius of a Cylinder: '))\n",
    "height = float(input('Please Enter the Height of a Cylinder: '))\n",
    "Volume = PI * radius * radius * height\n",
    "print (Volume)\n"
   ]
  },
  {
   "cell_type": "code",
   "execution_count": 5,
   "metadata": {},
   "outputs": [
    {
     "name": "stdout",
     "output_type": "stream",
     "text": [
      "Enter first number: 5\n",
      "Enter second number: 3\n",
      "Enter third number: 100\n",
      "The largest number between 5.0 , 3.0 and 100.0 is 100.0\n"
     ]
    }
   ],
   "source": [
    "#5c.\n",
    "num1 = float(input(\"Enter first number: \"))\n",
    "num2 = float(input(\"Enter second number: \"))\n",
    "num3 = float(input(\"Enter third number: \"))\n",
    "\n",
    "if (num1 >= num2) and (num1 >= num3):\n",
    "   largest = num1\n",
    "elif (num2 >= num1) and (num2 >= num3):\n",
    "   largest = num2\n",
    "else:\n",
    "   largest = num3\n",
    "\n",
    "print(\"The largest number between\",num1,\",\",num2,\"and\",num3,\"is\",largest)"
   ]
  },
  {
   "cell_type": "code",
   "execution_count": null,
   "metadata": {},
   "outputs": [],
   "source": [
    "#6a.\n",
    "\n"
   ]
  }
 ],
 "metadata": {
  "kernelspec": {
   "display_name": "Python 3",
   "language": "python",
   "name": "python3"
  },
  "language_info": {
   "codemirror_mode": {
    "name": "ipython",
    "version": 3
   },
   "file_extension": ".py",
   "mimetype": "text/x-python",
   "name": "python",
   "nbconvert_exporter": "python",
   "pygments_lexer": "ipython3",
   "version": "3.6.6"
  }
 },
 "nbformat": 4,
 "nbformat_minor": 2
}
